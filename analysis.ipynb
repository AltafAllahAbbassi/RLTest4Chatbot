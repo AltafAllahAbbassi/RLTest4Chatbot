{
 "cells": [
  {
   "cell_type": "code",
   "execution_count": 1,
   "metadata": {},
   "outputs": [],
   "source": [
    "import json\n",
    "import numpy as np"
   ]
  },
  {
   "cell_type": "code",
   "execution_count": 8,
   "metadata": {},
   "outputs": [],
   "source": [
    "def get_data(result_file):\n",
    "    f = open(result_file)\n",
    "    results = json.load(f)\n",
    "    transcripts = []\n",
    "    transcripts_tr = []\n",
    "    trans_rates = []\n",
    "    rewards = []\n",
    "    joint_accs = []\n",
    "    for dialogue_r in results : \n",
    "        for turn_r in dialogue_r[\"dialogue\"]:\n",
    "            transcripts.append(turn_r[\"transcript\"])\n",
    "            transcripts_tr.append(turn_r[\"transcript_tran\"])\n",
    "            trans_rates.append(turn_r[\"transformation_rate\"])\n",
    "            rewards.append(turn_r[\"reward\"])\n",
    "            joint_accs.append(turn_r[\"joint_acc\"])\n",
    "           \n",
    "    f.close()\n",
    "\n",
    "    return transcripts, transcripts_tr, trans_rates, rewards, joint_accs\n",
    "    "
   ]
  },
  {
   "cell_type": "code",
   "execution_count": 41,
   "metadata": {},
   "outputs": [],
   "source": [
    "trade_result_files = [\"Examples/trade/Results/Evaluation/test_21_Multi_PDQN_3_1000.json\", \"Examples/trade/Results/Evaluation/test_21_Multi_PDQN_3_2000.json\", \"Examples/trade/Results/Evaluation/test_21_Multi_PDQN_3_3000.json\"]\n",
    "\n",
    "\n",
    "transcripts, transcripts_tr, trans_rates, rewards, joint_accs, valids= [], [], [], [], [], []\n",
    "for res_file in trade_result_files :\n",
    "    transcripts_, transcripts_tr_, trans_rates_, rewards_ , joint_accs_= get_data(res_file)\n",
    "    transcripts.append(transcripts_)\n",
    "    transcripts_tr.append(transcripts_tr_)\n",
    "    trans_rates.append(trans_rates_)\n",
    "    rewards.append(rewards_)\n",
    "    joint_accs.append(joint_accs_)\n",
    "    valids.append([int(t<0.25) for t in trans_rates_])\n",
    "\n",
    "\n"
   ]
  },
  {
   "cell_type": "code",
   "execution_count": 42,
   "metadata": {},
   "outputs": [
    {
     "name": "stdout",
     "output_type": "stream",
     "text": [
      "[8.760683760683763, 8.54700854700855, 9.615384615384615]\n",
      "[45.72649572649573, 47.008547008547005, 47.22222222222222]\n"
     ]
    }
   ],
   "source": [
    "n_turn = len(transcripts[0])\n",
    "succ = [(1-sum(x)/n_turn)*100 for x in joint_accs] \n",
    "valid = [sum(v)/n_turn*100 for v in valids]\n",
    "print(succ)\n",
    "print(valid)"
   ]
  }
 ],
 "metadata": {
  "kernelspec": {
   "display_name": "Python 3.7.13 64-bit ('DST-testing': conda)",
   "name": "python3713jvsc74a57bd0a3e22788efca7d6798b5dc17ebe958ba2eb8e6a34f812f786243045e87252917"
  },
  "language_info": {
   "name": "python",
   "version": ""
  },
  "orig_nbformat": 3
 },
 "nbformat": 4,
 "nbformat_minor": 2
}